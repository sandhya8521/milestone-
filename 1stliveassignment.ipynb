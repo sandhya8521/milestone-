{
 "cells": [
  {
   "cell_type": "markdown",
   "id": "89d96f86-700f-4e25-8873-52492ee97ea3",
   "metadata": {},
   "source": [
    "(1.3)Question\n",
    "\n",
    "name = [\"Mohan\", \"dash\", \"karam\", \"chandra\", \"gandhi\", \"Bapu\"]\n",
    "Do the following  operations in  this list\n",
    "\n",
    "(a) Add an element \"freedom_fighter\" to the list at the 0th index.\n"
   ]
  },
  {
   "cell_type": "code",
   "execution_count": 1,
   "id": "13e86558-1e73-42e8-ac3d-c7997559aa4f",
   "metadata": {},
   "outputs": [
    {
     "name": "stdout",
     "output_type": "stream",
     "text": [
      "['freedom_fighter', 'Mohan', 'dash', 'karam', 'chandra', 'gandhi', 'Bapu']\n"
     ]
    }
   ],
   "source": [
    "name = [\"Mohan\", \"dash\", \"karam\", \"chandra\", \"gandhi\", \"Bapu\"]\n",
    "name.insert(0, \"freedom_fighter\")\n",
    "print(name)\n"
   ]
  },
  {
   "cell_type": "markdown",
   "id": "8325b59a-4a82-4cdf-be66-5b34cc60ffc5",
   "metadata": {},
   "source": [
    "Find the output of the following code and explain how:\n"
   ]
  },
  {
   "cell_type": "code",
   "execution_count": 2,
   "id": "a77cbbe5-1808-4e91-babf-3f6d2179a850",
   "metadata": {},
   "outputs": [
    {
     "name": "stdout",
     "output_type": "stream",
     "text": [
      "7\n"
     ]
    }
   ],
   "source": [
    "name = [\"freedomFighter\", \"Bapuji\", \"Mohan\", \"dash\", \"karam\", \"chandra\", \"gandhi\"]\n",
    "length1 = len((name[-len(name)+1:-2:2]))\n",
    "length2 = len((name[-len(name)+1:-1]))\n",
    "print(length1 + length2)\n"
   ]
  },
  {
   "cell_type": "markdown",
   "id": "32cf3534-2d84-4b85-a3f8-8855d5b9b4ff",
   "metadata": {},
   "source": [
    "(c) Add two more elements in the list [\"NetaJi\", \"Bose\"] at the end of the list."
   ]
  },
  {
   "cell_type": "code",
   "execution_count": 5,
   "id": "3836af9d-b8c0-4b42-a2e0-50f728034fc5",
   "metadata": {},
   "outputs": [
    {
     "name": "stdout",
     "output_type": "stream",
     "text": [
      "['freedomFighter', 'Bapuji', 'Mohan', 'dash', 'karam', 'chandra', 'gandhi', 'NetaJi', 'Bose']\n"
     ]
    }
   ],
   "source": [
    "name = [\"freedomFighter\", \"Bapuji\", \"Mohan\", \"dash\", \"karam\", \"chandra\", \"gandhi\"]\n",
    "name.extend([\"NetaJi\", \"Bose\"])\n",
    "print(name)\n"
   ]
  },
  {
   "cell_type": "code",
   "execution_count": 6,
   "id": "b3e786a9-13ac-4fd9-a665-488b6a408c73",
   "metadata": {},
   "outputs": [
    {
     "name": "stdout",
     "output_type": "stream",
     "text": [
      "2\n",
      "4\n",
      "7\n"
     ]
    }
   ],
   "source": [
    "#(1.4)\n",
    "animal = ['Human', 'cat', 'mat', 'cat', 'rat', 'Human', 'Lion']\n",
    "\n",
    "print(animal.count('Human'))  # Counts how many times 'Human' appears in the list\n",
    "print(animal.index('rat'))    # Finds the index of the first occurrence of 'rat'\n",
    "print(len(animal))            # Finds the length of the list\n",
    "\n"
   ]
  },
  {
   "cell_type": "markdown",
   "id": "b49a0f19-f5e9-4f93-b22b-a42f19d93194",
   "metadata": {},
   "source": [
    "(1.5)Question \n",
    "\n",
    "tuple1 = (10, 20, \"Apple\", 3.4, 'a', [\"master\", \"ji\"], (\"sita\", \"geeta\", 22), {\"name\": \"Navneet\"}, {\"roll_no\": 1})"
   ]
  },
  {
   "cell_type": "code",
   "execution_count": 8,
   "id": "dddc63db-11c1-43e6-a4b1-95ace14977b3",
   "metadata": {},
   "outputs": [
    {
     "name": "stdout",
     "output_type": "stream",
     "text": [
      "9\n"
     ]
    }
   ],
   "source": [
    "tuple1 = (10, 20, \"Apple\", 3.4, 'a', [\"master\", \"ji\"], (\"sita\", \"geeta\", 22), {\"name\": \"Navneet\"}, {\"roll_no\": 1})\n",
    "print(len(tuple1))"
   ]
  },
  {
   "cell_type": "code",
   "execution_count": 9,
   "id": "21798b3d-f934-4929-a3f2-8f477f2c5c3c",
   "metadata": {},
   "outputs": [
    {
     "name": "stdout",
     "output_type": "stream",
     "text": [
      "Navneet\n"
     ]
    }
   ],
   "source": [
    "  print(tuple1[-2][\"name\"])"
   ]
  },
  {
   "cell_type": "code",
   "execution_count": 10,
   "id": "f223b353-4694-4b6d-a345-f02ea9051e5b",
   "metadata": {},
   "outputs": [
    {
     "name": "stdout",
     "output_type": "stream",
     "text": [
      "Navneet\n"
     ]
    }
   ],
   "source": [
    "  print(tuple1[-2][\"name\"])\n",
    "    "
   ]
  },
  {
   "cell_type": "code",
   "execution_count": 13,
   "id": "9efe485a-70fd-487d-9e85-865a9ba31956",
   "metadata": {},
   "outputs": [
    {
     "name": "stdout",
     "output_type": "stream",
     "text": [
      "1\n"
     ]
    }
   ],
   "source": [
    "   print(tuple1[-1][\"roll_no\"])"
   ]
  },
  {
   "cell_type": "code",
   "execution_count": 14,
   "id": "f58d76dd-d74e-4954-bb53-14b28db996e7",
   "metadata": {},
   "outputs": [
    {
     "name": "stdout",
     "output_type": "stream",
     "text": [
      "geeta\n"
     ]
    }
   ],
   "source": [
    "print(tuple1[-3][1])"
   ]
  },
  {
   "cell_type": "markdown",
   "id": "bc509db3-b761-4711-a477-866f6a2dbbbe",
   "metadata": {},
   "source": [
    "(1.6)write a program to display the appropriate message as per color of signal (RED -stop/yellow \n",
    "     -stay / green - go ) at the road crossing"
   ]
  },
  {
   "cell_type": "code",
   "execution_count": 15,
   "id": "6922b303-8539-4be6-8861-e8c175701838",
   "metadata": {},
   "outputs": [
    {
     "name": "stdin",
     "output_type": "stream",
     "text": [
      "Enter the signal color (Red/Yellow/Green):  red\n"
     ]
    },
    {
     "name": "stdout",
     "output_type": "stream",
     "text": [
      "Stop\n"
     ]
    }
   ],
   "source": [
    "def traffic_signal(color):\n",
    "    if color.lower() == 'red':\n",
    "        print(\"Stop\")\n",
    "    elif color.lower() == 'yellow':\n",
    "        print(\"Stay\")\n",
    "    elif color.lower() == 'green':\n",
    "        print(\"Go\")\n",
    "    else:\n",
    "        print(\"Invalid color. Please enter Red, Yellow, or Green.\")\n",
    "\n",
    "\n",
    "# Taking input from the user\n",
    "color = input(\"Enter the signal color (Red/Yellow/Green): \")\n",
    "\n",
    "\n",
    "# Call the function with the input color\n",
    "traffic_signal(color)\n"
   ]
  },
  {
   "cell_type": "markdown",
   "id": "07142727-5323-45e0-88fd-b5bdca102409",
   "metadata": {},
   "source": [
    "(1.7) write a program to create a simple calculator performing only for basic operation (/,*,+,-)   "
   ]
  },
  {
   "cell_type": "code",
   "execution_count": 16,
   "id": "7aeaec71-0b5e-4588-9031-39e15b4d9d07",
   "metadata": {},
   "outputs": [
    {
     "name": "stdin",
     "output_type": "stream",
     "text": [
      "Enter the first number:  98\n",
      "Enter the second number:  58\n",
      "Enter an operation (+, -, *, /):  /\n"
     ]
    },
    {
     "name": "stdout",
     "output_type": "stream",
     "text": [
      "Result: 1.6896551724137931\n"
     ]
    }
   ],
   "source": [
    " num1 = float(input(\"Enter the first number: \"))\n",
    "num2 = float(input(\"Enter the second number: \"))\n",
    "operation = input(\"Enter an operation (+, -, *, /): \")\n",
    "\n",
    "\n",
    "# Perform the calculation based on the chosen operation\n",
    "if operation == '+':\n",
    "    result = num1 + num2\n",
    "elif operation == '-':\n",
    "    result = num1 - num2\n",
    "elif operation == '*':\n",
    "    result = num1 * num2\n",
    "elif operation == '/':\n",
    "    if num2 != 0:\n",
    "        result = num1 / num2\n",
    "    else:\n",
    "        result = \"Cannot divide by zero!\"\n",
    "else:\n",
    "    result = \"Invalid operation!\"\n",
    "\n",
    "\n",
    "# Display the result\n",
    "print(\"Result:\", result)\n"
   ]
  },
  {
   "cell_type": "markdown",
   "id": "65f083ea-6762-4df1-8d1d-4b465e9a09fc",
   "metadata": {},
   "source": [
    "(1.9)write a program to find the factors of a whole number using a while loop."
   ]
  },
  {
   "cell_type": "code",
   "execution_count": 17,
   "id": "a357a503-3258-441b-bc59-afc86a31ef72",
   "metadata": {},
   "outputs": [
    {
     "name": "stdin",
     "output_type": "stream",
     "text": [
      "Enter a whole number:  5\n"
     ]
    },
    {
     "name": "stdout",
     "output_type": "stream",
     "text": [
      "The factors of 5 are: [1, 5]\n"
     ]
    }
   ],
   "source": [
    "  def find_factors(number):\n",
    "    i = 1\n",
    "    factors = []\n",
    "\n",
    "\n",
    "    while i <= number:\n",
    "        if number % i == 0:\n",
    "            factors.append(i)\n",
    "        i += 1\n",
    "   \n",
    "    return factors\n",
    "\n",
    "\n",
    "# Take input from the user\n",
    "number = int(input(\"Enter a whole number: \"))\n",
    "\n",
    "\n",
    "# Call the function and print the factors\n",
    "factors = find_factors(number)\n",
    "print(f\"The factors of {number} are: {factors}\")"
   ]
  },
  {
   "cell_type": "markdown",
   "id": "16e6955d-db2c-4e2b-abb0-ef100fabb887",
   "metadata": {},
   "source": [
    "(1.10) write a program to find the sum of all the positive numbers entered by the user . as soon as user enter a negative number , stop taking in any future input from the user and display the sum"
   ]
  },
  {
   "cell_type": "code",
   "execution_count": 20,
   "id": "b0141a91-cb4f-42c1-b7b8-c1cfd9ac11da",
   "metadata": {},
   "outputs": [
    {
     "name": "stdin",
     "output_type": "stream",
     "text": [
      "Enter a positive number (or enter a negative number to stop):  66\n",
      "Enter a positive number (or enter a negative number to stop):  898\n",
      "Enter a positive number (or enter a negative number to stop):  565\n",
      "Enter a positive number (or enter a negative number to stop):  45\n",
      "Enter a positive number (or enter a negative number to stop):  -459\n"
     ]
    },
    {
     "name": "stdout",
     "output_type": "stream",
     "text": [
      "The sum of all positive numbers entered is: 1574.0\n"
     ]
    }
   ],
   "source": [
    "total_sum = 0\n",
    "\n",
    "\n",
    "while True:\n",
    "    number = float(input(\"Enter a positive number (or enter a negative number to stop): \"))\n",
    "   \n",
    "    if number < 0:\n",
    "        break  # Exit the loop if a negative number is entered\n",
    "    else:\n",
    "        total_sum += number\n",
    "\n",
    "\n",
    "print(\"The sum of all positive numbers entered is:\", total_sum)\n",
    "\n"
   ]
  },
  {
   "cell_type": "markdown",
   "id": "a9cabccb-402b-485a-8ab9-0cc35d51b78a",
   "metadata": {},
   "source": [
    "(1.11)write a program to find prime numbers between 2 to 100 using nested for loops."
   ]
  },
  {
   "cell_type": "code",
   "execution_count": 21,
   "id": "569e7b76-1b45-47db-ad4f-506f7a38acd8",
   "metadata": {},
   "outputs": [
    {
     "name": "stdout",
     "output_type": "stream",
     "text": [
      "Prime numbers between 2 and 100 are:\n",
      "2\n",
      "3\n",
      "5\n",
      "7\n",
      "11\n",
      "13\n",
      "17\n",
      "19\n",
      "23\n",
      "29\n",
      "31\n",
      "37\n",
      "41\n",
      "43\n",
      "47\n",
      "53\n",
      "59\n",
      "61\n",
      "67\n",
      "71\n",
      "73\n",
      "79\n",
      "83\n",
      "89\n",
      "97\n"
     ]
    }
   ],
   "source": [
    "print(\"Prime numbers between 2 and 100 are:\")\n",
    "for num in range(2, 101):  \n",
    "    is_prime = True  \n",
    "    for i in range(2, num):  \n",
    "        if num % i == 0:  \n",
    "            is_prime = False\n",
    "            break  \n",
    "    if is_prime:  \n",
    "        print(num)\n"
   ]
  },
  {
   "cell_type": "markdown",
   "id": "9e57de85-b431-4729-919e-def3930786b1",
   "metadata": {},
   "source": [
    "(1.13)To write a Python program that identifies the color in the VIBGYOR spectrum based on its wavelength range."
   ]
  },
  {
   "cell_type": "code",
   "execution_count": 22,
   "id": "99d39a42-ace4-4bd2-b602-040db2e6c490",
   "metadata": {},
   "outputs": [
    {
     "name": "stdin",
     "output_type": "stream",
     "text": [
      "Enter the wavelength (in nm):  652\n"
     ]
    },
    {
     "name": "stdout",
     "output_type": "stream",
     "text": [
      "The color for wavelength 652.0 nm is: Red\n"
     ]
    }
   ],
   "source": [
    "  wavelength = float(input(\"Enter the wavelength (in nm): \"))\n",
    "if 400.0 <= wavelength < 440.0:\n",
    "    color = \"Violet\"\n",
    "elif 440.0 <= wavelength < 460.0:\n",
    "    color = \"Indigo\"\n",
    "elif 460.0 <= wavelength < 500.0:\n",
    "    color = \"Blue\"\n",
    "elif 500.0 <= wavelength < 570.0:\n",
    "    color = \"Green\"\n",
    "elif 570.0 <= wavelength < 590.0:\n",
    "    color = \"Yellow\"\n",
    "elif 590.0 <= wavelength < 620.0:\n",
    "    color = \"Orange\"\n",
    "elif 620.0 <= wavelength <= 720.0:\n",
    "    color = \"Red\"\n",
    "else:\n",
    "    color = \"Wavelength out of VIBGYOR range\"\n",
    "\n",
    "\n",
    "print(f\"The color for wavelength {wavelength} nm is: {color}\")\n"
   ]
  },
  {
   "cell_type": "markdown",
   "id": "22c2bea9-20c9-40f6-b556-57b154aefe0e",
   "metadata": {},
   "source": [
    "2.Design and implement a Python program for managing student information using object-oriented principles. Create a class called Student with encapsulated attributes for name, age, and roll number. Implement getter and setter methods for these attributes. Additionally, provide methods to display student information and update student details.\n",
    "\n",
    "Tasks:\n",
    "\n",
    "Define the Student class with encapsulated attributes.\n",
    "Implement getter and setter methods for the attributes.\n",
    "Write methods to display student information and update details.\n",
    "Create instances of the Student class and test the implemented functionality.\n"
   ]
  },
  {
   "cell_type": "code",
   "execution_count": 23,
   "id": "7aaab9bd-841f-4d11-8062-8c796eecda0d",
   "metadata": {},
   "outputs": [
    {
     "name": "stdout",
     "output_type": "stream",
     "text": [
      "Student 1 Information:\n",
      "Name: John Doe\n",
      "Age: 20\n",
      "Roll Number: 12345\n",
      "\n",
      "Student 2 Information:\n",
      "Name: Jane Smith\n",
      "Age: 22\n",
      "Roll Number: 67890\n",
      "\n",
      "Updated Student 1 Information:\n",
      "Name: Johnathan Doe\n",
      "Age: 21\n",
      "Roll Number: 12345\n"
     ]
    }
   ],
   "source": [
    "class Student:\n",
    "    def __init__(self, name, age, roll_number):\n",
    "        self.__name = name  # Encapsulated attribute\n",
    "        self.__age = age    # Encapsulated attribute\n",
    "        self.__roll_number = roll_number  # Encapsulated attribute\n",
    "    \n",
    "    # Getter methods\n",
    "    def get_name(self):\n",
    "        return self.__name\n",
    "    \n",
    "    def get_age(self):\n",
    "        return self.__age\n",
    "    \n",
    "    def get_roll_number(self):\n",
    "        return self.__roll_number\n",
    "    \n",
    "    # Setter methods\n",
    "    def set_name(self, name):\n",
    "        self.__name = name\n",
    "    \n",
    "    def set_age(self, age):\n",
    "        self.__age = age\n",
    "    \n",
    "    def set_roll_number(self, roll_number):\n",
    "        self.__roll_number = roll_number\n",
    "    \n",
    "    # Method to display student information\n",
    "    def display_student_info(self):\n",
    "        print(f\"Name: {self.get_name()}\")\n",
    "        print(f\"Age: {self.get_age()}\")\n",
    "        print(f\"Roll Number: {self.get_roll_number()}\")\n",
    "    \n",
    "    # Method to update student details\n",
    "    def update_student_details(self, name=None, age=None, roll_number=None):\n",
    "        if name:\n",
    "            self.set_name(name)\n",
    "        if age:\n",
    "            self.set_age(age)\n",
    "        if roll_number:\n",
    "            self.set_roll_number(roll_number)\n",
    "\n",
    "# Creating instances of the Student class\n",
    "student1 = Student(\"John Doe\", 20, \"12345\")\n",
    "student2 = Student(\"Jane Smith\", 22, \"67890\")\n",
    "\n",
    "# Displaying student information\n",
    "print(\"Student 1 Information:\")\n",
    "student1.display_student_info()\n",
    "print(\"\\nStudent 2 Information:\")\n",
    "student2.display_student_info()\n",
    "\n",
    "# Updating student details\n",
    "student1.update_student_details(name=\"Johnathan Doe\", age=21)\n",
    "print(\"\\nUpdated Student 1 Information:\")\n",
    "student1.display_student_info()\n"
   ]
  },
  {
   "cell_type": "markdown",
   "id": "6991d971-6f6a-4568-8fda-e5d8824c9cfa",
   "metadata": {},
   "source": [
    "Develop a Python program for managing library resources efficiently. Design a class named LibraryBook with attributes like book name, author, and availability status. Implement methods for borrowing and returning books while ensuring proper encapsulation of attributes.\n",
    "\n",
    "Tasks:\n",
    "1.Create the LibraryBook class with encapsulated attributes.\n",
    "2.Implement methods for borrowing and returning books.\n",
    "3.Ensure proper encapsulation to protect book details.\n",
    "4.the borrowing and returning functionality with sample data."
   ]
  },
  {
   "cell_type": "code",
   "execution_count": 24,
   "id": "cfab2ce1-7990-4184-a49f-8496762f85c7",
   "metadata": {},
   "outputs": [],
   "source": [
    "\n",
    "#1.Create the LibraryBook class with encapsulated attributes.\n",
    "\n",
    "class LibraryBook:\n",
    "    def __init__(self, book_name, author, available=True):\n",
    "        # Encapsulated attributes (private with double underscores)\n",
    "        self.__book_name = book_name\n",
    "        self.__author = author\n",
    "        self.__available = available\n"
   ]
  },
  {
   "cell_type": "code",
   "execution_count": 25,
   "id": "ebc9cb4f-da67-42ce-af55-780e6ab583d0",
   "metadata": {},
   "outputs": [],
   "source": [
    "#2.Implement methods for borrowing and returning books.\n",
    "\n",
    "\n",
    "class LibraryBook:\n",
    "    def __init__(self, book_name, author, available=True):\n",
    "        self.__book_name = book_name\n",
    "        self.__author = author\n",
    "        self.__available = available\n",
    "\n",
    "    # Borrowing method\n",
    "    def borrow_book(self):\n",
    "        if self.__available:\n",
    "            self.__available = False\n",
    "            print(f'You have borrowed \"{self.__book_name}\".')\n",
    "        else:\n",
    "            print(f'Sorry, \"{self.__book_name}\" is currently unavailable.')\n",
    "\n",
    "    # Returning method\n",
    "    def return_book(self):\n",
    "        if not self.__available:\n",
    "            self.__available = True\n",
    "            print(f'Thank you for returning \"{self.__book_name}\".')\n",
    "        else:\n",
    "            print(f'\"{self.__book_name}\" was not borrowed.')\n"
   ]
  },
  {
   "cell_type": "code",
   "execution_count": 31,
   "id": "1f02d2d3-c2fc-4a14-ba89-d077f0b09155",
   "metadata": {},
   "outputs": [],
   "source": [
    "\n",
    "#3.Ensure proper encapsulation to protect book details.\n",
    "\n",
    "\n",
    "class LibraryBook:\n",
    "    def __init__(self, book_name, author, available=True):\n",
    "        self.__book_name = book_name\n",
    "        self.__author = author\n",
    "        self.__available = available\n",
    "\n",
    "    # Getter method to access private attributes\n",
    "    def get_book_name(self):\n",
    "        return self.__book_name\n",
    "\n",
    "    def get_author(self):\n",
    "        return self.__author\n",
    "\n",
    "    def is_available(self):\n",
    "        return self.__available\n"
   ]
  },
  {
   "cell_type": "code",
   "execution_count": null,
   "id": "f0b8cef1-87b9-40a9-b0c2-d8e370409792",
   "metadata": {},
   "outputs": [],
   "source": [
    "#4.the borrowing and returning functionality with sample data.\n",
    "\n",
    "if __name__ == \"__main__\":\n",
    "    # Create sample books\n",
    "    book1 = LibraryBook(\"Harry Potter\", \"J.K. Rowling\")\n",
    "    book2 = LibraryBook(\"The Hobbit\", \"J.R.R. Tolkien\")\n",
    "\n",
    "    # Display initial availability\n",
    "    print(f'Is \"{book1.get_book_name()}\" available? {book1.is_available()}')\n",
    "    \n",
    "    # Borrow book1\n",
    "    book1.borrow_book()\n",
    "    \n",
    "    # Try borrowing again (should fail)\n",
    "    book1.borrow_book()\n",
    "    \n",
    "    # Return book1\n",
    "    book1.return_book()\n",
    "    \n",
    "    # Display final status\n",
    "    print(f'Is \"{book1.get_book_name()}\" available? {book1.is_available()}')\n",
    "\n",
    "    # Borrow and return book2\n",
    "    book2.borrow_book()\n",
    "    book2.return_book()\n"
   ]
  },
  {
   "cell_type": "markdown",
   "id": "c2530622-fca1-4edd-94dd-3cb687cba367",
   "metadata": {},
   "source": [
    "4.Create a simple banking system using object-oriented concepts in Python. Design classes representing different types of bank accounts such as savings and checking. Implement methods for deposit, withdraw, and balance inquiry. Utilize inheritance to manage different account types efficiently.\n",
    "\n",
    "Tasks:\n",
    "\n",
    "1.Define base class(es) for bank accounts with common attributes and methods.\n",
    "2.Implement subclasses for specific account types (e.g., SavingsAccount, CheckingAccount).\n",
    "3.Provide methods for deposit, withdrawal, and balance inquiry in each subclass.\n",
    "4.Test the banking system by creating instances of different account types and performing "
   ]
  },
  {
   "cell_type": "code",
   "execution_count": 32,
   "id": "3e049b9d-1a12-4fc4-8fb4-ffe7eaa5f020",
   "metadata": {},
   "outputs": [],
   "source": [
    "#1.Define base class(es) for bank accounts with common attributes and methods.\n",
    "# Base class\n",
    "class BankAccount:\n",
    "    def __init__(self, account_number, holder_name, balance=0):\n",
    "        self.account_number = account_number\n",
    "        self.holder_name = holder_name\n",
    "        self.balance = balance\n",
    "\n",
    "    # Method to check balance\n",
    "    def check_balance(self):\n",
    "        return f\"Account: {self.account_number}, Balance: {self.balance}\"\n",
    "\n",
    "    # Method to deposit money\n",
    "    def deposit(self, amount):\n",
    "        if amount > 0:\n",
    "            self.balance += amount\n",
    "            print(f\"Deposited {amount}. New balance is {self.balance}.\")\n",
    "        else:\n",
    "            print(\"Deposit amount should be positive.\")\n",
    "\n",
    "    # Method to withdraw money\n",
    "    def withdraw(self, amount):\n",
    "        if amount > 0 and amount <= self.balance:\n",
    "            self.balance -= amount\n",
    "            print(f\"Withdrew {amount}. New balance is {self.balance}.\")\n",
    "        else:\n",
    "            print(f\"Insufficient balance or invalid amount. Current balance: {self.balance}.\")\n"
   ]
  },
  {
   "cell_type": "code",
   "execution_count": 33,
   "id": "4012a75e-1655-43b0-a068-a83e034d38dc",
   "metadata": {},
   "outputs": [],
   "source": [
    "#2.Implement subclasses for specific account types (e.g., SavingsAccount, CheckingAccount).\n",
    "\n",
    "# Savings account subclass\n",
    "class SavingsAccount(BankAccount):\n",
    "    def __init__(self, account_number, holder_name, balance=0):\n",
    "        super().__init__(account_number, holder_name, balance)\n",
    "        self.account_type = \"Savings\"\n",
    "\n",
    "# Checking account subclass\n",
    "class CheckingAccount(BankAccount):\n",
    "    def __init__(self, account_number, holder_name, balance=0):\n",
    "        super().__init__(account_number, holder_name, balance)\n",
    "        self.account_type = \"Checking\"\n"
   ]
  },
  {
   "cell_type": "code",
   "execution_count": 34,
   "id": "04e8be9f-15e0-4ae1-ab2f-bd798ba70846",
   "metadata": {},
   "outputs": [
    {
     "name": "stdout",
     "output_type": "stream",
     "text": [
      "Account: SA12345, Balance: 1000\n",
      "Deposited 500. New balance is 1500.\n",
      "Withdrew 300. New balance is 1200.\n",
      "Account: SA12345, Balance: 1200\n",
      "Account: CA98765, Balance: 2000\n",
      "Deposited 1000. New balance is 3000.\n",
      "Withdrew 2500. New balance is 500.\n",
      "Account: CA98765, Balance: 500\n"
     ]
    }
   ],
   "source": [
    "#3.Provide methods for deposit, withdrawal, and balance inquiry in each subclass.\n",
    "if __name__ == \"__main__\":\n",
    "    # Create a savings account\n",
    "    savings_account = SavingsAccount(\"SA12345\", \"Alice\", 1000)\n",
    "    print(savings_account.check_balance())  # Check initial balance\n",
    "    savings_account.deposit(500)            # Deposit 500\n",
    "    savings_account.withdraw(300)           # Withdraw 300\n",
    "    print(savings_account.check_balance())  # Check final balance\n",
    "\n",
    "    # Create a checking account\n",
    "    checking_account = CheckingAccount(\"CA98765\", \"Bob\", 2000)\n",
    "    print(checking_account.check_balance())  # Check initial balance\n",
    "    checking_account.deposit(1000)           # Deposit 1000\n",
    "    checking_account.withdraw(2500)          # Withdraw 2500 (should show insufficient balance)\n",
    "    print(checking_account.check_balance())  # Check final balance\n"
   ]
  },
  {
   "cell_type": "markdown",
   "id": "4a059d35-becb-45a6-9e69-b225935e8783",
   "metadata": {},
   "source": [
    "5.Write a Python program that models different animals and their sounds. Design a base class called Animal with a method make_sound(). Create subclasses like Dog and Cat that override the make_sound() method to produce appropriate sounds.\n",
    "\n",
    "Tasks:\n",
    "\n",
    "1.Define the Animal class with a method make_sound().\n",
    "2.Create subclasses Dog and Cat that override the make_sound() method.\n",
    "3.Implement the sound generation logic for each subclass.\n",
    "4.Test the program by creating instances of Dog and Cat and calling the make_sound() method."
   ]
  },
  {
   "cell_type": "code",
   "execution_count": 2,
   "id": "1a0c9257-96a3-47bb-ae31-a4bf3ee46110",
   "metadata": {},
   "outputs": [],
   "source": [
    "#1.Define the Animal class with a method make_sound().\n",
    "\n",
    "class Animal:\n",
    "    def make_sound(self):\n",
    "        pass\n"
   ]
  },
  {
   "cell_type": "code",
   "execution_count": 3,
   "id": "aa8fe0f5-c396-42b5-a8ae-6080bb557abc",
   "metadata": {},
   "outputs": [],
   "source": [
    "#2.Create subclasses Dog and Cat that override the make_sound() method.\n",
    "\n",
    "class Dog(Animal):\n",
    "    def make_sound(self):\n",
    "        return \"Woof Woof\"\n",
    "\n",
    "class Cat(Animal):\n",
    "    def make_sound(self):\n",
    "        return \"Meow\"\n",
    "\n"
   ]
  },
  {
   "cell_type": "code",
   "execution_count": 4,
   "id": "9d986b7a-f6bc-4262-8521-15b92ffa564e",
   "metadata": {},
   "outputs": [
    {
     "name": "stdout",
     "output_type": "stream",
     "text": [
      "Dog says: Woof Woof\n",
      "Cat says: Meow\n"
     ]
    }
   ],
   "source": [
    "#3.Implement the sound generation logic for each subclass.\n",
    "\n",
    "if __name__ == \"__main__\":\n",
    "    dog = Dog()\n",
    "    cat = Cat()\n",
    "\n",
    "    print(\"Dog says:\", dog.make_sound())\n",
    "    print(\"Cat says:\", cat.make_sound())\n"
   ]
  },
  {
   "cell_type": "code",
   "execution_count": 5,
   "id": "8870dec3-9ee3-45bb-a04b-17ddc148d5a8",
   "metadata": {},
   "outputs": [
    {
     "name": "stdout",
     "output_type": "stream",
     "text": [
      "Dog says: Woof Woof\n",
      "Cat says: Meow\n"
     ]
    }
   ],
   "source": [
    "#4.Test the program by creating instances of Dog and Cat and calling the make_sound() method.\n",
    "if __name__ == \"__main__\":\n",
    "    dog = Dog()\n",
    "    cat = Cat()\n",
    "\n",
    "    print(\"Dog says:\", dog.make_sound())\n",
    "    print(\"Cat says:\", cat.make_sound())\n"
   ]
  },
  {
   "cell_type": "markdown",
   "id": "3e42def4-6758-4631-b1cb-e0fa68f34809",
   "metadata": {},
   "source": [
    "6.Write a code for Restaurant Management System Using OOPS:\n",
    "\n",
    "1.Create a MenuItem class that has attributes such as name, description, price, and category.\n",
    "2.Implement methods to add a new menu item, update menu item information, and remove a menu item from the menu.\n",
    "3.Use encapsulation to hide the menu item's unique identification number.\n",
    "4.Inherit from the MenuItem class to create a FoodItem class and a BeverageItem class, each with their own specific attributes and methods."
   ]
  },
  {
   "cell_type": "code",
   "execution_count": 6,
   "id": "2de17b83-bf2b-4c72-8502-d16ac31a1746",
   "metadata": {},
   "outputs": [],
   "source": [
    "\n",
    "#1.Create a MenuItem class that has attributes such as name, description, price, and category.\n",
    "\n",
    "\n",
    "class MenuItem:\n",
    "    def __init__(self, name, description, price, category):\n",
    "        self.__id = id(self)  # Unique ID for the item (encapsulated)\n",
    "        self.name = name\n",
    "        self.description = description\n",
    "        self.price = price\n",
    "        self.category = category\n",
    "\n",
    "    def update_item(self, name=None, description=None, price=None, category=None):\n",
    "        if name:\n",
    "            self.name = name\n",
    "        if description:\n",
    "            self.description = description\n",
    "        if price:\n",
    "            self.price = price\n",
    "        if category:\n",
    "            self.category = category\n",
    "\n",
    "    def remove_item(self):\n",
    "        del self\n",
    "\n",
    "    def __str__(self):\n",
    "        return f\"MenuItem({self.name}, {self.description}, {self.price}, {self.category})\"\n"
   ]
  },
  {
   "cell_type": "code",
   "execution_count": 7,
   "id": "834052c9-d473-400e-ac40-7544a06097a1",
   "metadata": {},
   "outputs": [],
   "source": [
    "\n",
    "#4.Inherit from the MenuItem class to create a FoodItem class and a BeverageItem class, each with their own specific attributes and methods.\n",
    "\n",
    "class FoodItem(MenuItem):\n",
    "    def __init__(self, name, description, price, category, cuisine_type):\n",
    "        super().__init__(name, description, price, category)\n",
    "        self.cuisine_type = cuisine_type\n",
    "\n",
    "    def __str__(self):\n",
    "        return f\"FoodItem({self.name}, {self.description}, {self.price}, {self.category}, {self.cuisine_type})\"\n",
    "\n",
    "class BeverageItem(MenuItem):\n",
    "    def __init__(self, name, description, price, category, is_alcoholic):\n",
    "        super().__init__(name, description, price, category)\n",
    "        self.is_alcoholic = is_alcoholic\n",
    "\n",
    "    def __str__(self):\n",
    "        return f\"BeverageItem({self.name}, {self.description}, {self.price}, {self.category}, {'Alcoholic' if self.is_alcoholic else 'Non-Alcoholic'})\"\n",
    "\n",
    "    \n",
    "    \n",
    "    "
   ]
  },
  {
   "cell_type": "code",
   "execution_count": 8,
   "id": "b41f56e8-0890-4960-8624-418bfdb01fc5",
   "metadata": {},
   "outputs": [
    {
     "name": "stdout",
     "output_type": "stream",
     "text": [
      "FoodItem(Burger, Juicy grilled beef burger, 5.99, Main Course, American)\n",
      "BeverageItem(Coca-Cola, Chilled soft drink, 1.99, Beverage, Non-Alcoholic)\n",
      "Updated: FoodItem(Burger, Juicy grilled beef burger, 6.99, Main Course, American)\n"
     ]
    }
   ],
   "source": [
    "# Step 1: Create a MenuItem class\n",
    "class MenuItem:\n",
    "    def __init__(self, name, description, price, category):\n",
    "        self.__id = id(self)  # Unique ID for the item (encapsulated)\n",
    "        self.name = name\n",
    "        self.description = description\n",
    "        self.price = price\n",
    "        self.category = category\n",
    "\n",
    "    def update_item(self, name=None, description=None, price=None, category=None):\n",
    "        if name:\n",
    "            self.name = name\n",
    "        if description:\n",
    "            self.description = description\n",
    "        if price:\n",
    "            self.price = price\n",
    "        if category:\n",
    "            self.category = category\n",
    "\n",
    "    def remove_item(self):\n",
    "        del self\n",
    "\n",
    "    def __str__(self):\n",
    "        return f\"MenuItem({self.name}, {self.description}, {self.price}, {self.category})\"\n",
    "\n",
    "# Step 4: Inherit from MenuItem to create FoodItem and BeverageItem classes\n",
    "class FoodItem(MenuItem):\n",
    "    def __init__(self, name, description, price, category, cuisine_type):\n",
    "        super().__init__(name, description, price, category)\n",
    "        self.cuisine_type = cuisine_type\n",
    "\n",
    "    def __str__(self):\n",
    "        return f\"FoodItem({self.name}, {self.description}, {self.price}, {self.category}, {self.cuisine_type})\"\n",
    "\n",
    "class BeverageItem(MenuItem):\n",
    "    def __init__(self, name, description, price, category, is_alcoholic):\n",
    "        super().__init__(name, description, price, category)\n",
    "        self.is_alcoholic = is_alcoholic\n",
    "\n",
    "    def __str__(self):\n",
    "        return f\"BeverageItem({self.name}, {self.description}, {self.price}, {self.category}, {'Alcoholic' if self.is_alcoholic else 'Non-Alcoholic'})\"\n",
    "\n",
    "# Example usage\n",
    "if __name__ == \"__main__\":\n",
    "    # Create some menu items\n",
    "    burger = FoodItem(\"Burger\", \"Juicy grilled beef burger\", 5.99, \"Main Course\", \"American\")\n",
    "    cola = BeverageItem(\"Coca-Cola\", \"Chilled soft drink\", 1.99, \"Beverage\", False)\n",
    "\n",
    "    # Display items\n",
    "    print(burger)\n",
    "    print(cola)\n",
    "\n",
    "    # Update the burger\n",
    "    burger.update_item(price=6.99)\n",
    "    print(\"Updated:\", burger)\n",
    "\n",
    "    # Remove cola (just for demonstration, not actually removed from memory)\n",
    "    cola.remove_item()\n"
   ]
  },
  {
   "cell_type": "markdown",
   "id": "ff02575a-58e5-4cd2-b466-40f1a1c3848e",
   "metadata": {},
   "source": [
    "Write a code for Hotel Management System using OOPS:\n",
    "\n",
    "1.Create a Room class that has attributes such as room number, room type, rate, and availability (private).\n",
    "2.Implement methods to book a room, check in a guest, and check out a guest.\n",
    "3.Use encapsulation to hide the room's unique identification number.\n",
    "4.Inherit from the Room class to create a SuiteRoom class and a StandardRoom class, each with their own specific attributes and methods."
   ]
  },
  {
   "cell_type": "code",
   "execution_count": 9,
   "id": "59900e49-c44a-446b-852c-4c20938b4510",
   "metadata": {},
   "outputs": [],
   "source": [
    "#1.Create a Room class that has attributes such as room number, room type, rate, and availability (private).\n",
    "class Room:\n",
    "    def __init__(self, room_number, room_type, rate):\n",
    "        self.room_number = room_number  # Public attribute\n",
    "        self.room_type = room_type  # Public attribute\n",
    "        self.rate = rate  # Public attribute\n",
    "        self.__availability = True  # Private attribute\n"
   ]
  },
  {
   "cell_type": "code",
   "execution_count": 10,
   "id": "1db8965f-d93c-4902-beeb-9bfdb3e47f0e",
   "metadata": {},
   "outputs": [],
   "source": [
    "#2.Implement methods to book a room, check in a guest, and check out a guest.\n",
    "\n",
    "class Room:\n",
    "    def __init__(self, room_number, room_type, rate):\n",
    "        self.room_number = room_number\n",
    "        self.room_type = room_type\n",
    "        self.rate = rate\n",
    "        self.__availability = True\n",
    "\n",
    "    def book_room(self):\n",
    "        if self.__availability:\n",
    "            self.__availability = False\n",
    "            print(f\"Room {self.room_number} has been booked.\")\n",
    "        else:\n",
    "            print(f\"Room {self.room_number} is already booked.\")\n",
    "\n",
    "    def check_in(self):\n",
    "        if not self.__availability:\n",
    "            print(f\"Room {self.room_number} is checked in.\")\n",
    "        else:\n",
    "            print(f\"Room {self.room_number} is not booked yet!\")\n",
    "\n",
    "    def check_out(self):\n",
    "        if not self.__availability:\n",
    "            self.__availability = True\n",
    "            print(f\"Room {self.room_number} is now available.\")\n",
    "        else:\n",
    "            print(f\"Room {self.room_number} was not occupied.\")\n"
   ]
  },
  {
   "cell_type": "code",
   "execution_count": 11,
   "id": "426b6652-1c78-4711-8a78-429235c87af1",
   "metadata": {},
   "outputs": [],
   "source": [
    "#3.Use encapsulation to hide the room's unique identification number.\n",
    "\n",
    "class Room:\n",
    "    def __init__(self, room_number, room_type, rate):\n",
    "        self.__room_number = room_number  # Private room number\n",
    "        self.room_type = room_type\n",
    "        self.rate = rate\n",
    "        self.__availability = True\n",
    "\n",
    "    def get_room_number(self):\n",
    "        return self.__room_number\n",
    "\n",
    "    def book_room(self):\n",
    "        if self.__availability:\n",
    "            self.__availability = False\n",
    "            print(f\"Room {self.get_room_number()} has been booked.\")\n",
    "        else:\n",
    "            print(f\"Room {self.get_room_number()} is already booked.\")\n",
    "\n",
    "    def check_in(self):\n",
    "        if not self.__availability:\n",
    "            print(f\"Room {self.get_room_number()} is checked in.\")\n",
    "        else:\n",
    "            print(f\"Room {self.get_room_number()} is not booked yet!\")\n",
    "\n",
    "    def check_out(self):\n",
    "        if not self.__availability:\n",
    "            self.__availability = True\n",
    "            print(f\"Room {self.get_room_number()} is now available.\")\n",
    "        else:\n",
    "            print(f\"Room {self.get_room_number()} was not occupied.\")\n"
   ]
  },
  {
   "cell_type": "code",
   "execution_count": 12,
   "id": "4816a1ee-0cfc-45cb-8d7f-295983e253f9",
   "metadata": {},
   "outputs": [],
   "source": [
    "#4.Inherit from the Room class to create a SuiteRoom class and a StandardRoom class, each with their own specific attributes and methods.\n",
    "\n",
    "class SuiteRoom(Room):\n",
    "    def __init__(self, room_number, rate):\n",
    "        super().__init__(room_number, \"Suite\", rate)  # Call parent constructor with \"Suite\" type\n",
    "        self.extra_service = \"Spa access\"  # Extra attribute for suite\n",
    "\n",
    "    def additional_services(self):\n",
    "        return f\"Room {self.get_room_number()} includes {self.extra_service}.\"\n",
    "\n",
    "\n",
    "class StandardRoom(Room):\n",
    "    def __init__(self, room_number, rate):\n",
    "        super().__init__(room_number, \"Standard\", rate)  # Call parent constructor with \"Standard\" type\n"
   ]
  },
  {
   "cell_type": "markdown",
   "id": "d6bd1730-9b67-4b42-916a-bccfcc6f7f80",
   "metadata": {},
   "source": [
    "10.Write a code for Airline Reservation System using OOPS:\n",
    "\n",
    "1.Create a Flight class that has attributes such as flight number, departure and arrival airports, departure and arrival times, and available seats (private).\n",
    "2.Implement methods to book a seat, cancel a reservation, and get the remaining available seats.\n",
    "3.Use encapsulation to hide the flight’s unique identification number.\n",
    "4.Inherit from the Flight class to create a DomesticFlight class and an InternationalFlight class, each with their own specific attributes and methods."
   ]
  },
  {
   "cell_type": "code",
   "execution_count": 13,
   "id": "2ba8aba5-a199-40df-b82c-f10a3fc1527a",
   "metadata": {},
   "outputs": [],
   "source": [
    "#1.Create a Flight class that has attributes such as flight number, departure and arrival airports, departure and arrival times, and available seats (private).\n",
    "\n",
    "class Flight:\n",
    "    def __init__(self, flight_number, departure_airport, arrival_airport, departure_time, arrival_time, available_seats):\n",
    "        self.__flight_number = flight_number  # Private attribute (Encapsulated)\n",
    "        self.departure_airport = departure_airport\n",
    "        self.arrival_airport = arrival_airport\n",
    "        self.departure_time = departure_time\n",
    "        self.arrival_time = arrival_time\n",
    "        self.__available_seats = available_seats  # Private attribute\n"
   ]
  },
  {
   "cell_type": "code",
   "execution_count": 14,
   "id": "6d7cfa25-dc21-42ad-bfc8-9f5fefa8d5b5",
   "metadata": {},
   "outputs": [],
   "source": [
    "#2.Implement methods to book a seat, cancel a reservation, and get the remaining available seats.\n",
    "class Flight:\n",
    "    def __init__(self, flight_number, departure_airport, arrival_airport, departure_time, arrival_time, available_seats):\n",
    "        self.__flight_number = flight_number\n",
    "        self.departure_airport = departure_airport\n",
    "        self.arrival_airport = arrival_airport\n",
    "        self.departure_time = departure_time\n",
    "        self.arrival_time = arrival_time\n",
    "        self.__available_seats = available_seats\n",
    "\n",
    "    def book_seat(self):\n",
    "        if self.__available_seats > 0:\n",
    "            self.__available_seats -= 1\n",
    "            print(f\"Seat booked on flight {self.__flight_number}. Seats left: {self.__available_seats}\")\n",
    "        else:\n",
    "            print(\"No available seats.\")\n",
    "\n",
    "    def cancel_reservation(self):\n",
    "        self.__available_seats += 1\n",
    "        print(f\"Reservation canceled on flight {self.__flight_number}. Seats available: {self.__available_seats}\")\n",
    "\n",
    "    def get_remaining_seats(self):\n",
    "        return self.__available_seats\n",
    "\n"
   ]
  },
  {
   "cell_type": "code",
   "execution_count": 15,
   "id": "579c61c5-6f08-4077-a7c0-4e022ae80834",
   "metadata": {},
   "outputs": [],
   "source": [
    "#3.Use encapsulation to hide the flight’s unique identification number.\n",
    "class Flight:\n",
    "    def __init__(self, flight_number, departure_airport, arrival_airport, departure_time, arrival_time, available_seats):\n",
    "        self.__flight_number = flight_number  # Encapsulated flight number\n",
    "        self.departure_airport = departure_airport\n",
    "        self.arrival_airport = arrival_airport\n",
    "        self.departure_time = departure_time\n",
    "        self.arrival_time = arrival_time\n",
    "        self.__available_seats = available_seats  # Private seats\n",
    "\n",
    "    # Getter for flight number\n",
    "    def get_flight_number(self):\n",
    "        return self.__flight_number\n",
    "\n",
    "    def book_seat(self):\n",
    "        if self.__available_seats > 0:\n",
    "            self.__available_seats -= 1\n",
    "            print(f\"Seat booked on flight {self.get_flight_number()}. Seats left: {self.__available_seats}\")\n",
    "        else:\n",
    "            print(\"No available seats.\")\n",
    "\n",
    "    def cancel_reservation(self):\n",
    "        self.__available_seats += 1\n",
    "        print(f\"Reservation canceled on flight {self.get_flight_number()}. Seats available: {self.__available_seats}\")\n",
    "\n",
    "    def get_remaining_seats(self):\n",
    "        return self.__available_seats\n"
   ]
  },
  {
   "cell_type": "code",
   "execution_count": 18,
   "id": "9dcbb031-75e9-4d0f-a2e8-f555f271c288",
   "metadata": {},
   "outputs": [],
   "source": [
    "# 4.Inherit from the Flight class to create a DomesticFlight class and an InternationalFlight class, each with their own specific attributes and methods.     \n",
    "\n",
    "class DomesticFlight(Flight):\n",
    "    def __init__(self, flight_number, departure_airport, arrival_airport, departure_time, arrival_time, available_seats):\n",
    "        super().__init__(flight_number, departure_airport, arrival_airport, departure_time, arrival_time, available_seats)\n",
    "        self.in_flight_service = \"Domestic snacks and drinks\"\n",
    "\n",
    "    def get_service(self):\n",
    "        return self.in_flight_service\n",
    "\n",
    "class InternationalFlight(Flight):\n",
    "    def __init__(self, flight_number, departure_airport, arrival_airport, departure_time, arrival_time, available_seats):\n",
    "        super().__init__(flight_number, departure_airport, arrival_airport, departure_time, arrival_time, available_seats)\n",
    "        self.passport_required = True\n",
    "\n",
    "    def check_passport_requirement(self):\n",
    "        return \"Passport is required for international flights.\"\n"
   ]
  },
  {
   "cell_type": "markdown",
   "id": "041c9492-57f6-4fa7-8c5f-3e76f9d5c8f7",
   "metadata": {},
   "source": [
    "11.Define a Python module named constants.py containing constants like pi and the speed of light."
   ]
  },
  {
   "cell_type": "code",
   "execution_count": 19,
   "id": "c25f3dc8-444d-4f65-9bac-48e8267b3791",
   "metadata": {},
   "outputs": [],
   "source": [
    "# constants.py\n",
    "\n",
    "# Mathematical constants\n",
    "PI = 3.14159\n",
    "\n",
    "# Physical constants\n",
    "SPEED_OF_LIGHT = 299792458  # in meters per second\n"
   ]
  },
  {
   "cell_type": "markdown",
   "id": "7eea446d-bd52-407e-83e2-7489bc36fd79",
   "metadata": {},
   "source": [
    "12.Write a Python module named calculator.py containing functions for addition, subtraction, multiplication, and division."
   ]
  },
  {
   "cell_type": "code",
   "execution_count": 21,
   "id": "4b2eb6fe-6fc9-46b3-9a53-db78723473eb",
   "metadata": {},
   "outputs": [],
   "source": [
    "# calculator.py\n",
    "\n",
    "def add(a, b):\n",
    "    return a + b\n",
    "\n",
    "def subtract(a, b):\n",
    "    return a - b\n",
    "\n",
    "def multiply(a, b):\n",
    "    return a * b\n",
    "\n",
    "def divide(a, b):\n",
    "    if b == 0:\n",
    "        raise ValueError(\"Cannot divide by zero.\")\n",
    "    return a / b\n"
   ]
  },
  {
   "cell_type": "markdown",
   "id": "6e639787-34dd-475e-80af-682c93da25a4",
   "metadata": {},
   "source": [
    "13.Implement a Python package structure for a project named ecommerce, containing modules for product management and order processing."
   ]
  },
  {
   "cell_type": "markdown",
   "id": "43ad87b2-814b-4e42-816a-1087ad83e285",
   "metadata": {},
   "source": [
    "  \n",
    "    \n",
    "    ecommerce/\n",
    "│\n",
    "├── __init__.py           # Makes ecommerce a package\n",
    "├── product_management/\n",
    "│   ├── __init__.py       # Makes product_management a subpackage\n",
    "│   ├── product.py        # Contains functions related to products\n",
    "│\n",
    "└── order_processing/\n",
    "    ├── __init__.py       # Makes order_processing a subpackage\n",
    "    └── order.py          # Contains functions related to order processing\n"
   ]
  },
  {
   "cell_type": "code",
   "execution_count": 1,
   "id": "23d00dcd-dafe-4f3c-8f54-f14e82f31555",
   "metadata": {},
   "outputs": [],
   "source": [
    "# ecommerce/product_management/product.py\n",
    "\n",
    "products = []\n",
    "\n",
    "def add_product(product_name, price):\n",
    "    \"\"\"Adds a product to the product list.\"\"\"\n",
    "    product = {'name': product_name, 'price': price}\n",
    "    products.append(product)\n",
    "\n",
    "def list_products():\n",
    "    \"\"\"Returns the list of all products.\"\"\"\n",
    "    return products\n"
   ]
  },
  {
   "cell_type": "code",
   "execution_count": 2,
   "id": "f0b36841-3bcb-4dca-a6b7-af6e27626792",
   "metadata": {},
   "outputs": [],
   "source": [
    "# ecommerce/order_processing/order.py\n",
    "\n",
    "orders = []\n",
    "\n",
    "def place_order(product_name, quantity):\n",
    "    \"\"\"Places an order for a product.\"\"\"\n",
    "    order = {'product': product_name, 'quantity': quantity}\n",
    "    orders.append(order)\n",
    "\n",
    "def view_orders():\n",
    "    \"\"\"Returns the list of all orders.\"\"\"\n",
    "    return orders\n"
   ]
  },
  {
   "cell_type": "code",
   "execution_count": 3,
   "id": "7050cd23-f0ce-400e-8501-22e25a26d7ca",
   "metadata": {},
   "outputs": [],
   "source": [
    "# ecommerce/order_processing/order.py\n",
    "\n",
    "orders = []\n",
    "\n",
    "def place_order(product_name, quantity):\n",
    "    \"\"\"Places an order for a product.\"\"\"\n",
    "    order = {'product': product_name, 'quantity': quantity}\n",
    "    orders.append(order)\n",
    "\n",
    "def view_orders():\n",
    "    \"\"\"Returns the list of all orders.\"\"\"\n",
    "    return orders\n"
   ]
  },
  {
   "cell_type": "code",
   "execution_count": 4,
   "id": "3ea611fb-aeda-4958-9c2c-642d827a9892",
   "metadata": {},
   "outputs": [],
   "source": [
    "# ecommerce/__init__.py\n",
    "# This file can be used to initialize the package\n"
   ]
  },
  {
   "cell_type": "markdown",
   "id": "188df7bd-5778-4bc9-8fbd-c66222919d10",
   "metadata": {},
   "source": [
    "14.Implement a Python module named string_utils.py containing functions for string manipulation, such as reversing and capitalizing strings."
   ]
  },
  {
   "cell_type": "code",
   "execution_count": 5,
   "id": "f96a2818-2aba-4236-b24e-da1a6e0d58e2",
   "metadata": {},
   "outputs": [],
   "source": [
    "# string_utils.py\n",
    "\n",
    "def reverse_string(s):\n",
    "     return s[::-1]\n",
    "\n",
    "def capitalize_string(s):\n",
    "   \n",
    "    return s.title()\n",
    "\n",
    "def uppercase_string(s):\n",
    "    return s.upper()\n",
    "\n",
    "def lowercase_string(s):\n",
    "   \n",
    "    return s.lower()\n"
   ]
  },
  {
   "cell_type": "markdown",
   "id": "084458d1-7f2b-4f08-a54c-725ec0f40dd5",
   "metadata": {},
   "source": [
    "15.Write a Python module named file_operations.py with functions for reading, writing, and appending data to a file."
   ]
  },
  {
   "cell_type": "code",
   "execution_count": 6,
   "id": "ad90990e-3aa4-441d-833a-56e5581a920d",
   "metadata": {},
   "outputs": [],
   "source": [
    "# file_operations.py\n",
    "\n",
    "def write_to_file(filename, data):\n",
    "    \"\"\"Writes data to a file, overwriting if the file already exists.\"\"\"\n",
    "    with open(filename, 'w') as file:\n",
    "        file.write(data)\n",
    "    print(f\"Data written to {filename}\")\n",
    "\n",
    "def append_to_file(filename, data):\n",
    "    \"\"\"Appends data to a file.\"\"\"\n",
    "    with open(filename, 'a') as file:\n",
    "        file.write(data)\n",
    "    print(f\"Data appended to {filename}\")\n",
    "\n",
    "def read_from_file(filename):\n",
    "    \"\"\"Reads data from a file and returns it.\"\"\"\n",
    "    try:\n",
    "        with open(filename, 'r') as file:\n",
    "            data = file.read()\n",
    "        print(f\"Data read from {filename}\")\n",
    "        return data\n",
    "    except FileNotFoundError:\n",
    "        print(f\"{filename} not found.\")\n",
    "        return None\n"
   ]
  },
  {
   "cell_type": "markdown",
   "id": "29377d04-7840-4fdf-9aa0-38a07563b5d6",
   "metadata": {},
   "source": [
    "16.Write a Python program to create a text file named \"employees.txt\" and write the details of employees, including their name, age, and salary, into the file."
   ]
  },
  {
   "cell_type": "code",
   "execution_count": 7,
   "id": "86cd6e51-d9bb-4670-b129-5c504ec29548",
   "metadata": {},
   "outputs": [],
   "source": [
    "# employees.py\n",
    "\n",
    "def write_employee_details():\n",
    "    \"\"\"Writes employee details to a text file named 'employees.txt'.\"\"\"\n",
    "    # List of employees with name, age, and salary\n",
    "    employees = [\n",
    "        {\"name\": \"John Doe\", \"age\": 30, \"salary\": 50000},\n",
    "        {\"name\": \"Jane Smith\", \"age\": 25, \"salary\": 60000},\n",
    "        {\"name\": \"Emily Davis\", \"age\": 40, \"salary\": 70000}\n",
    "    ]\n",
    "\n",
    "    # Writing the employee details to 'employees.txt'\n",
    "    with open(\"employees.txt\", \"w\") as file:\n",
    "        for employee in employees:\n",
    "            file.write(f\"Name: {employee['name']}, Age: {employee['age']}, Salary: ${employee['salary']}\\n\")\n",
    "\n",
    "# Call the function to write the employee details to the file\n",
    "write_employee_details()\n"
   ]
  },
  {
   "cell_type": "markdown",
   "id": "15e550f2-4f4e-45cd-88d1-4c0892d8e830",
   "metadata": {},
   "source": [
    "17.Develop a Python script that opens an existing text file named \"inventory.txt\" in read mode and displays the contents of the file line by line."
   ]
  },
  {
   "cell_type": "code",
   "execution_count": 9,
   "id": "3243afc5-41b1-4b6a-96cc-25c6e1c693ec",
   "metadata": {},
   "outputs": [
    {
     "name": "stdout",
     "output_type": "stream",
     "text": [
      "The file 'inventory.txt' was not found.\n"
     ]
    }
   ],
   "source": [
    "# Open the file \"inventory.txt\" in read mode\n",
    "try:\n",
    "    with open('inventory.txt', 'r') as file:\n",
    "        # Read each line and print it\n",
    "        for line in file:\n",
    "            print(line.rstrip())  # rstrip() removes any trailing newlines or spaces\n",
    "except FileNotFoundError:\n",
    "    print(\"The file 'inventory.txt' was not found.\")\n",
    "except Exception as e:\n",
    "    print(f\"An error occurred: {e}\")\n"
   ]
  },
  {
   "cell_type": "markdown",
   "id": "426041d2-9bba-4450-b218-510f74f9802d",
   "metadata": {},
   "source": [
    "18.Create a Python script that reads a text file named \"expenses.txt\" and calculates the total amount spent on various expenses listed in the file."
   ]
  },
  {
   "cell_type": "code",
   "execution_count": 11,
   "id": "1c6e18fb-0afb-48e4-b230-ea330d5a3766",
   "metadata": {},
   "outputs": [],
   "source": [
    "#Assuming that the expenses.txt file contains lines in the following format:\n",
    "\n",
    "Food: 120.50\n",
    "Transport: 45.00\n",
    "Rent: 850.00\n",
    "Entertainment: 75.25\n"
   ]
  },
  {
   "cell_type": "code",
   "execution_count": 12,
   "id": "aa8d0374-9453-4d6f-ae67-41968654cd7b",
   "metadata": {},
   "outputs": [
    {
     "name": "stdout",
     "output_type": "stream",
     "text": [
      "The file 'expenses.txt' was not found.\n"
     ]
    }
   ],
   "source": [
    "# Initialize a variable to hold the total expenses\n",
    "total_expenses = 0.0\n",
    "\n",
    "# Open the file \"expenses.txt\" in read mode\n",
    "try:\n",
    "    with open('expenses.txt', 'r') as file:\n",
    "        # Loop through each line in the file\n",
    "        for line in file:\n",
    "            # Split each line by ':' to separate the category and amount\n",
    "            try:\n",
    "                category, amount = line.split(':')\n",
    "                # Strip any whitespace and convert the amount to float\n",
    "                total_expenses += float(amount.strip())\n",
    "            except ValueError:\n",
    "                print(f\"Error processing line: {line.strip()}\")\n",
    "    \n",
    "    # Print the total expenses\n",
    "    print(f\"Total amount spent: ${total_expenses:.2f}\")\n",
    "\n",
    "except FileNotFoundError:\n",
    "    print(\"The file 'expenses.txt' was not found.\")\n",
    "except Exception as e:\n",
    "    print(f\"An error occurred: {e}\")\n"
   ]
  },
  {
   "cell_type": "markdown",
   "id": "f5b6e721-9410-4bd3-909e-0fcf3f2040e3",
   "metadata": {},
   "source": [
    "19.Create a Python program that reads a text file named \"paragraph.txt\" and counts the occurrences of each word in the paragraph, displaying the results in alphabetical order."
   ]
  },
  {
   "cell_type": "code",
   "execution_count": 13,
   "id": "c18e199c-b0ad-4d6c-9ec0-96053a5e50ab",
   "metadata": {},
   "outputs": [
    {
     "name": "stdout",
     "output_type": "stream",
     "text": [
      "The file 'paragraph.txt' was not found.\n"
     ]
    }
   ],
   "source": [
    "from collections import Counter\n",
    "import string\n",
    "\n",
    "# Function to clean and split words\n",
    "def process_text(text):\n",
    "    # Convert text to lowercase and remove punctuation\n",
    "    text = text.lower().translate(str.maketrans('', '', string.punctuation))\n",
    "    words = text.split()  # Split the text into words\n",
    "    return words\n",
    "\n",
    "# Read the contents of the \"paragraph.txt\" file\n",
    "try:\n",
    "    with open('paragraph.txt', 'r') as file:\n",
    "        content = file.read()\n",
    "\n",
    "    # Process and count word occurrences\n",
    "    words = process_text(content)\n",
    "    word_counts = Counter(words)\n",
    "\n",
    "    # Display results in alphabetical order\n",
    "    for word in sorted(word_counts):\n",
    "        print(f\"{word}: {word_counts[word]}\")\n",
    "        \n",
    "except FileNotFoundError:\n",
    "    print(\"The file 'paragraph.txt' was not found.\")\n",
    "except Exception as e:\n",
    "    print(f\"An error occurred: {e}\")\n"
   ]
  },
  {
   "cell_type": "markdown",
   "id": "79d7fcbb-9a18-498c-a999-23b15dfaf7af",
   "metadata": {},
   "source": [
    "21.What do you mean by skewness? Explain its types. Use a graph to show."
   ]
  },
  {
   "cell_type": "markdown",
   "id": "a4135f72-19e3-4db4-a90b-2c4df5959ece",
   "metadata": {},
   "source": [
    "Skewness:\n",
    "\n",
    "Skewness is a measure of the asymmetry of the probability distribution of a real-valued random variable. It indicates whether the data points in a dataset are skewed to the left (negative skew) or to the right (positive skew) relative to a normal distribution.\n",
    "\n",
    "Types of Skewness:\n",
    "\n",
    "1.Positive Skewness (Right-Skewed):\n",
    "\n",
    "In this case, the tail on the right side of the distribution is longer or fatter than the left side.\n",
    "Most of the data values lie on the left side, with a few large values on the right side.\n",
    "The mean is greater than the median.\n",
    "\n",
    "2.Negative Skewness (Left-Skewed):\n",
    "\n",
    "Here, the tail on the left side is longer or fatter than the right side.\n",
    "Most of the data values are concentrated on the right, with a few small values on the left.\n",
    "The mean is less than the median.\n",
    "\n",
    "Zero Skewness (Symmetric Distribution):\n",
    "\n",
    "This is when the distribution is perfectly symmetrical.\n",
    "The data values are evenly distributed around the mean.\n",
    "The mean and the median are equal."
   ]
  },
  {
   "cell_type": "code",
   "execution_count": 14,
   "id": "21b67ab5-9f58-4240-bca6-d20beb562d7d",
   "metadata": {},
   "outputs": [
    {
     "data": {
      "image/png": "[encoded data removed]",
      "text/plain": [
       "<Figure size 1500x500 with 3 Axes>"
      ]
     },
     "metadata": {},
     "output_type": "display_data"
    }
   ],
   "source": [
    "import numpy as np\n",
    "import matplotlib.pyplot as plt\n",
    "from scipy.stats import skewnorm\n",
    "\n",
    "# Generate data for positive skew\n",
    "data_pos = skewnorm.rvs(a=10, size=1000)\n",
    "\n",
    "# Generate data for negative skew\n",
    "data_neg = skewnorm.rvs(a=-10, size=1000)\n",
    "\n",
    "# Generate data for symmetric distribution (normal distribution)\n",
    "data_sym = np.random.normal(0, 1, 1000)\n",
    "\n",
    "# Plotting\n",
    "fig, axs = plt.subplots(1, 3, figsize=(15, 5))\n",
    "\n",
    "# Positive Skew\n",
    "axs[0].hist(data_pos, bins=30, color='blue', alpha=0.7)\n",
    "axs[0].set_title('Positive Skew')\n",
    "\n",
    "# Negative Skew\n",
    "axs[1].hist(data_neg, bins=30, color='red', alpha=0.7)\n",
    "axs[1].set_title('Negative Skew')\n",
    "\n",
    "# Symmetric Distribution\n",
    "axs[2].hist(data_sym, bins=30, color='green', alpha=0.7)\n",
    "axs[2].set_title('Symmetric Distribution')\n",
    "\n",
    "plt.show()\n"
   ]
  },
  {
   "cell_type": "markdown",
   "id": "07096d8b-c925-4002-96b1-f0ab6da6645d",
   "metadata": {},
   "source": [
    "(50.2)create a database name travel_planner in mysql  and create a table name booking in that which having attributes (user_id , flight_id INT,activity_id INT, booking_date(DATE) fill with some dummy  value. Now  you have to read the content of this table using pandas as dataframes . show the output"
   ]
  },
  {
   "cell_type": "code",
   "execution_count": null,
   "id": "5dd8920e-7eff-4abd-aa01-d4e9a25d08b8",
   "metadata": {},
   "outputs": [],
   "source": [
    "-- Create the database\n",
    "CREATE DATABASE travel_planner;\n",
    "\n",
    "-- Use the travel_planner database\n",
    "USE travel_planner;\n",
    "\n",
    "-- Create the booking table\n",
    "CREATE TABLE booking (\n",
    "    user_id INT AUTO_INCREMENT PRIMARY KEY,\n",
    "    flight_id INT,\n",
    "    activity_id INT,\n",
    "    booking_date DATE\n",
    ");\n",
    "\n",
    "-- Insert some dummy data\n",
    "INSERT INTO booking (flight_id, activity_id, booking_date)\n",
    "VALUES\n",
    "    (101, 201, '2023-07-01');\n",
    "    (102, 202, '2023-07-02');\n",
    "    (103, 203, '2023-07-03');\n",
    "    (104, 204, '2023-07-04');\n"
   ]
  },
  {
   "cell_type": "code",
   "execution_count": null,
   "id": "e0968c6f-6cce-46c1-920e-17d108076ba5",
   "metadata": {},
   "outputs": [],
   "source": []
  }
 ],
 "metadata": {
  "kernelspec": {
   "display_name": "Python 3 (ipykernel)",
   "language": "python",
   "name": "python3"
  },
  "language_info": {
   "codemirror_mode": {
    "name": "ipython",
    "version": 3
   },
   "file_extension": ".py",
   "mimetype": "text/x-python",
   "name": "python",
   "nbconvert_exporter": "python",
   "pygments_lexer": "ipython3",
   "version": "3.10.8"
  }
 },
 "nbformat": 4,
 "nbformat_minor": 5
}
